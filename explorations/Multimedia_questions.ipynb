{
 "cells": [
  {
   "cell_type": "code",
   "execution_count": 1,
   "outputs": [],
   "source": [
    "import re\n",
    "import sys\n",
    "import pandas as pd\n",
    "sys.path.append('/home/oliver/dev/uzh/atai_bot/bot')\n",
    "from util.question_analyser import QuestionAnalyser\n",
    "import pickle"
   ],
   "metadata": {
    "collapsed": false,
    "ExecuteTime": {
     "end_time": "2023-11-26T10:38:10.280130500Z",
     "start_time": "2023-11-26T10:38:07.699847Z"
    }
   },
   "id": "707ff0c4fbc72491"
  },
  {
   "cell_type": "code",
   "execution_count": 2,
   "outputs": [],
   "source": [
    "mul=[           \"Show me a picture of Halle Berry. \",\n",
    "            \"What does Julia Roberts look like? \",\n",
    "    \"Let me know what Sandra Bullock looks like. \", ]"
   ],
   "metadata": {
    "collapsed": false,
    "ExecuteTime": {
     "end_time": "2023-11-26T10:38:10.282243100Z",
     "start_time": "2023-11-26T10:38:10.277095Z"
    }
   },
   "id": "d538011dd31442c3"
  },
  {
   "cell_type": "code",
   "execution_count": 3,
   "outputs": [
    {
     "name": "stdout",
     "output_type": "stream",
     "text": [
      "Image request: Show me a picture of James Bond\n",
      "Image request: Display the poster of Jurassic Park\n",
      "Text response: Is Public Enemy No. 1 - Todestrieb a crime thriller?\n",
      "Text response: Did Christopher Nolan direct Inception?\n"
     ]
    }
   ],
   "source": [
    "# Sample sentences\n",
    "sentences = [\n",
    "    # Image requests\n",
    "    \"Show me a picture of James Bond\",\n",
    "    \"Display the poster of Jurassic Park\",\n",
    "    # Text requests\n",
    "    \"Is Public Enemy No. 1 - Todestrieb a crime thriller?\",\n",
    "    \"Did Christopher Nolan direct Inception?\"\n",
    "]\n",
    "\n",
    "# Keywords indicating an image request\n",
    "image_keywords = [\n",
    "    \"picture of\", \"display the\", \"look like\", \"photo of\", \"movie poster\",\n",
    "    \"cover of\", \"trailer of\", \"image of\", \"cast of\", \"scene from\"\n",
    "]\n",
    "\n",
    "def is_image_request(sentence):\n",
    "    for keyword in image_keywords:\n",
    "        if re.search(keyword, sentence, re.IGNORECASE):\n",
    "            return True\n",
    "    return False\n",
    "\n",
    "# Classify each sentence\n",
    "for sentence in sentences:\n",
    "    if is_image_request(sentence):\n",
    "        print(f\"Image request: {sentence}\")\n",
    "    else:\n",
    "        print(f\"Text response: {sentence}\")\n"
   ],
   "metadata": {
    "collapsed": false,
    "ExecuteTime": {
     "end_time": "2023-11-26T10:38:10.291101100Z",
     "start_time": "2023-11-26T10:38:10.282243100Z"
    }
   },
   "id": "c1bfefcb81942619"
  },
  {
   "cell_type": "code",
   "execution_count": 4,
   "outputs": [
    {
     "name": "stderr",
     "output_type": "stream",
     "text": [
      "Some weights of the model checkpoint at dslim/bert-large-NER were not used when initializing BertForTokenClassification: ['bert.pooler.dense.weight', 'bert.pooler.dense.bias']\n",
      "- This IS expected if you are initializing BertForTokenClassification from the checkpoint of a model trained on another task or with another architecture (e.g. initializing a BertForSequenceClassification model from a BertForPreTraining model).\n",
      "- This IS NOT expected if you are initializing BertForTokenClassification from the checkpoint of a model that you expect to be exactly identical (initializing a BertForSequenceClassification model from a BertForSequenceClassification model).\n"
     ]
    }
   ],
   "source": [
    "analyser=QuestionAnalyser()"
   ],
   "metadata": {
    "collapsed": false,
    "ExecuteTime": {
     "end_time": "2023-11-26T10:38:13.271454400Z",
     "start_time": "2023-11-26T10:38:10.291101100Z"
    }
   },
   "id": "751cb85b64e24fbe"
  },
  {
   "cell_type": "code",
   "execution_count": 5,
   "outputs": [],
   "source": [
    "with open(\"human_dict.pickle\", 'rb') as f:\n",
    "    human_dict = pickle.load(f)\n",
    "names = list(human_dict.keys())\n",
    "with open(\"/home/oliver/dev/uzh/atai_bot/dataset/updated_dataset.pickle\", 'rb') as f:\n",
    "    graph = pickle.load(f)\n",
    "\n",
    "file_path = '/home/oliver/dev/uzh/atai_bot/dataset/movienet/images.json'\n",
    "\n",
    "df = pd.read_json(file_path)\n",
    "df['cast'] = df['cast'].astype(str)\n",
    "df['type'] = df['type'].astype(str)"
   ],
   "metadata": {
    "collapsed": false,
    "ExecuteTime": {
     "end_time": "2023-11-26T10:38:58.540174900Z",
     "start_time": "2023-11-26T10:38:13.259126400Z"
    }
   },
   "id": "abbce6c90b15dd5f"
  },
  {
   "cell_type": "code",
   "execution_count": 6,
   "outputs": [
    {
     "name": "stdout",
     "output_type": "stream",
     "text": [
      "_____________________\n",
      "People: ['Richard Marquand']\n",
      "Movies: []\n",
      "FUZZYWUZZY results: (\"the rich man's wife\", 55.55555555555556, 6893)\n",
      "FUZZYWUZZY results: ('jan dara', 0.0, 0)\n",
      "FUZZYWUZZY results: ('richard marquand', 100.0, 84048)\n",
      "http://www.wikidata.org/entity/Q471402\n"
     ]
    }
   ],
   "source": [
    "movies, name = analyser.get_movie_title(\"How does Richard Marquand look like?\")\n",
    "entity = human_dict[name]\n",
    "print(human_dict[name])"
   ],
   "metadata": {
    "collapsed": false,
    "ExecuteTime": {
     "end_time": "2023-11-26T10:38:58.995327800Z",
     "start_time": "2023-11-26T10:38:58.541395800Z"
    }
   },
   "id": "2ff6cec410cd124a"
  },
  {
   "cell_type": "code",
   "execution_count": 7,
   "outputs": [
    {
     "name": "stdout",
     "output_type": "stream",
     "text": [
      "PREFIX rdfs: <http://www.w3.org/2000/01/rdf-schema#>\n",
      "PREFIX wd: <http://www.wikidata.org/entity/>\n",
      "PREFIX wdt: <http://www.wikidata.org/prop/direct/>\n",
      "PREFIX skos: <http://www.w3.org/2004/02/skos/core#>\n",
      "PREFIX ddis: <http://ddis.ch/atai/>\n",
      "SELECT ?value\n",
      "WHERE {\n",
      "     wd:Q471402 wdt:P345 ?value .\n",
      "}\n"
     ]
    }
   ],
   "source": [
    "query_template = \"\"\"PREFIX rdfs: <http://www.w3.org/2000/01/rdf-schema#>\n",
    "PREFIX wd: <http://www.wikidata.org/entity/>\n",
    "PREFIX wdt: <http://www.wikidata.org/prop/direct/>\n",
    "PREFIX skos: <http://www.w3.org/2004/02/skos/core#>\n",
    "PREFIX ddis: <http://ddis.ch/atai/>\n",
    "SELECT ?value\n",
    "WHERE {{\n",
    "     {0} wdt:P345 ?value .\n",
    "}}\n",
    "\"\"\"\n",
    "\n",
    "query = query_template.format(\"wd:\"+entity.split('/')[-1])\n",
    "print(query)\n",
    "\n",
    "# Ensure to use the 'query' variable, not 'query_template' for execution\n",
    "result = graph.query(query)\n",
    "imdb_id = None\n",
    "for row in result:\n",
    "    imdb_id= str(row[0])\n"
   ],
   "metadata": {
    "collapsed": false,
    "ExecuteTime": {
     "end_time": "2023-11-26T10:38:59.130220800Z",
     "start_time": "2023-11-26T10:38:58.995327800Z"
    }
   },
   "id": "c409b6a65507ebfd"
  },
  {
   "cell_type": "code",
   "execution_count": 8,
   "outputs": [
    {
     "data": {
      "text/plain": "      w        movie                    img     h               type  \\\n0  1666  [tt4882376]   0315/rm601699072.jpg  1000  behind_the_scenes   \n1   999  [tt2318625]   2538/rm814292736.jpg   562        still_frame   \n2  1500  [tt4003966]  0354/rm2068192512.jpg  1000        still_frame   \n3  1333           []    3777/rm27402752.jpg  1000          publicity   \n4   704           []   3459/rm537652736.jpg  1000              event   \n\n                         cast  \n0  ['nm8801745', 'nm0001401']  \n1               ['nm2072214']  \n2               ['nm0268626']  \n3               ['nm6655379']  \n4  ['nm1577190', 'nm7097953']  ",
      "text/html": "<div>\n<style scoped>\n    .dataframe tbody tr th:only-of-type {\n        vertical-align: middle;\n    }\n\n    .dataframe tbody tr th {\n        vertical-align: top;\n    }\n\n    .dataframe thead th {\n        text-align: right;\n    }\n</style>\n<table border=\"1\" class=\"dataframe\">\n  <thead>\n    <tr style=\"text-align: right;\">\n      <th></th>\n      <th>w</th>\n      <th>movie</th>\n      <th>img</th>\n      <th>h</th>\n      <th>type</th>\n      <th>cast</th>\n    </tr>\n  </thead>\n  <tbody>\n    <tr>\n      <th>0</th>\n      <td>1666</td>\n      <td>[tt4882376]</td>\n      <td>0315/rm601699072.jpg</td>\n      <td>1000</td>\n      <td>behind_the_scenes</td>\n      <td>['nm8801745', 'nm0001401']</td>\n    </tr>\n    <tr>\n      <th>1</th>\n      <td>999</td>\n      <td>[tt2318625]</td>\n      <td>2538/rm814292736.jpg</td>\n      <td>562</td>\n      <td>still_frame</td>\n      <td>['nm2072214']</td>\n    </tr>\n    <tr>\n      <th>2</th>\n      <td>1500</td>\n      <td>[tt4003966]</td>\n      <td>0354/rm2068192512.jpg</td>\n      <td>1000</td>\n      <td>still_frame</td>\n      <td>['nm0268626']</td>\n    </tr>\n    <tr>\n      <th>3</th>\n      <td>1333</td>\n      <td>[]</td>\n      <td>3777/rm27402752.jpg</td>\n      <td>1000</td>\n      <td>publicity</td>\n      <td>['nm6655379']</td>\n    </tr>\n    <tr>\n      <th>4</th>\n      <td>704</td>\n      <td>[]</td>\n      <td>3459/rm537652736.jpg</td>\n      <td>1000</td>\n      <td>event</td>\n      <td>['nm1577190', 'nm7097953']</td>\n    </tr>\n  </tbody>\n</table>\n</div>"
     },
     "execution_count": 8,
     "metadata": {},
     "output_type": "execute_result"
    }
   ],
   "source": [
    "df.head()"
   ],
   "metadata": {
    "collapsed": false,
    "ExecuteTime": {
     "end_time": "2023-11-26T10:38:59.161162400Z",
     "start_time": "2023-11-26T10:38:59.130220800Z"
    }
   },
   "id": "aeeda099a3dc1b41"
  },
  {
   "cell_type": "code",
   "execution_count": 15,
   "outputs": [
    {
     "data": {
      "text/plain": "'3681/rm1666919936.jpg'"
     },
     "execution_count": 15,
     "metadata": {},
     "output_type": "execute_result"
    }
   ],
   "source": [
    "# Assuming filtered_df is already defined as you mentioned\n",
    "filtered_df = df[df['cast'].str.contains(imdb_id) & df[\"type\"].str.contains(\"event\")]\n",
    "if len(filtered_df)==0:\n",
    "    filtered_df = df[df['cast'].str.contains(imdb_id) & df[\"type\"].str.contains(\"publicity\")]\n",
    "# Sort filtered_df based on the string length of 'cast'\n",
    "sorted_df = filtered_df.sort_values(by='cast', key=lambda col: col.str.len(), ascending=True)\n",
    "\n",
    "sorted_df['img'].iloc[0]"
   ],
   "metadata": {
    "collapsed": false,
    "ExecuteTime": {
     "end_time": "2023-11-26T10:40:42.841277400Z",
     "start_time": "2023-11-26T10:40:38.641054500Z"
    }
   },
   "id": "a75910422bae1aa8"
  },
  {
   "cell_type": "code",
   "execution_count": 16,
   "outputs": [
    {
     "data": {
      "image/jpeg": "[encoded data removed]",
      "text/plain": "<IPython.core.display.Image object>"
     },
     "execution_count": 16,
     "metadata": {},
     "output_type": "execute_result"
    }
   ],
   "source": [
    "from IPython.display import Image\n",
    "\n",
    "# Display an image by specifying the file path\n",
    "Image(filename=f'/home/oliver/dev/uzh/atai_bot/dataset/movienet/images/{sorted_df[\"img\"].iloc[0]}')"
   ],
   "metadata": {
    "collapsed": false,
    "ExecuteTime": {
     "end_time": "2023-11-26T10:40:42.858936900Z",
     "start_time": "2023-11-26T10:40:42.841277400Z"
    }
   },
   "id": "c290d2e01c0b2072"
  },
  {
   "cell_type": "code",
   "execution_count": null,
   "outputs": [],
   "source": [],
   "metadata": {
    "collapsed": false,
    "ExecuteTime": {
     "start_time": "2023-11-26T10:39:02.029175100Z"
    }
   },
   "id": "8b73c618ab06615"
  },
  {
   "cell_type": "code",
   "execution_count": null,
   "outputs": [],
   "source": [
    "df.to_pickle(\"movienet_index.pickle\")"
   ],
   "metadata": {
    "collapsed": false,
    "ExecuteTime": {
     "end_time": "2023-11-26T10:39:02.030230100Z",
     "start_time": "2023-11-26T10:39:02.030230100Z"
    }
   },
   "id": "9fc5ba9d4dee6c37"
  }
 ],
 "metadata": {
  "kernelspec": {
   "display_name": "Python 3",
   "language": "python",
   "name": "python3"
  },
  "language_info": {
   "codemirror_mode": {
    "name": "ipython",
    "version": 2
   },
   "file_extension": ".py",
   "mimetype": "text/x-python",
   "name": "python",
   "nbconvert_exporter": "python",
   "pygments_lexer": "ipython2",
   "version": "2.7.6"
  }
 },
 "nbformat": 4,
 "nbformat_minor": 5
}
