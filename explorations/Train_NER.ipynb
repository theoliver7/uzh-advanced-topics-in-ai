{
 "cells": [
  {
   "cell_type": "code",
   "execution_count": 17,
   "outputs": [],
   "source": [
    "import pickle\n",
    "\n",
    "with open(\"../dataset/film_dict.pickle\", 'rb') as f:\n",
    "    film_dict = pickle.load(f)\n",
    "movie_titles = list(film_dict.keys())"
   ],
   "metadata": {
    "collapsed": false,
    "ExecuteTime": {
     "end_time": "2023-11-19T15:33:16.630986Z",
     "start_time": "2023-11-19T15:33:16.615453200Z"
    }
   },
   "id": "5a35b7420e5ad1e9"
  },
  {
   "cell_type": "code",
   "execution_count": 18,
   "outputs": [
    {
     "name": "stdout",
     "output_type": "stream",
     "text": [
      "[('Who directed based on a true story and what year was it released?', {'entities': [(13, 34, 'MOVIE')]}), ('Who directed the day i saw your heart and what year was it released?', {'entities': [(13, 37, 'MOVIE')]}), ('Does a hole in the ground consist of three movies?', {'entities': [(5, 25, 'MOVIE')]}), ('Did the violin teacher get good reviews?', {'entities': [(4, 22, 'MOVIE')]}), ('What is the name of the ship in la vie promise?', {'entities': [(32, 46, 'MOVIE')]})]\n"
     ]
    }
   ],
   "source": [
    "import random\n",
    "\n",
    "# Example list of movie titles\n",
    "\n",
    "# Templates where \"MOVIE\" will be replaced with an actual movie title\n",
    "templates = [\n",
    "    \"Is MOVIE set in the French Renaissance period?\",\n",
    "    \"Is MOVIE directed by Stanley Kubrick?\",\n",
    "    \"Is MOVIE a sequel?\",\n",
    "    \"Did James Cameron direct MOVIE?\",\n",
    "    \"Is MOVIE based on a novel by Mario Puzo?\",\n",
    "    \"Is MOVIE a Turkish comedy film?\",\n",
    "    \"Does MOVIE feature the character Luke Skywalker?\",\n",
    "    \"Who directed the movie MOVIE?\",\n",
    "    \"Is MOVIE a critically acclaimed film?\",\n",
    "    \"Did Oliver win an award for directing MOVIE?\",\n",
    "    \"Is MOVIE considered a classic in the horror genre?\",\n",
    "    \"Was MOVIE released before the year 1990?\",\n",
    "    \"Is MOVIE part of a larger film series?\",\n",
    "    \"Has MOVIE ever been adapted into a television series?\",\n",
    "    \"Did John Glenn make their debut in MOVIE?\",\n",
    "    \"Who played the lead role in MOVIE?\",\n",
    "    \"What year was MOVIE first released in theaters?\",\n",
    "    \"Did MOVIE receive any Oscar nominations?\",\n",
    "    \"Is MOVIE based on a true story or a book?\",\n",
    "    \"Was MOVIE directed by Elisabeth?\",\n",
    "    \"Which studio produced MOVIE?\",\n",
    "    \"Did MOVIE have a sequel or prequel?\",\n",
    "    \"What is the main theme of MOVIE?\",\n",
    "    \"Was MOVIE ever remade or rebooted?\",\n",
    "    \"Who wrote the screenplay for MOVIE?\",\n",
    "    \"What is the running time of MOVIE?\",\n",
    "    \"Was MOVIE a box office success?\",\n",
    "    \"Did MOVIE feature any award-winning performances?\",\n",
    "    \"Is MOVIE known for its special effects?\",\n",
    "    \"Who composed the original score for MOVIE?\",\n",
    "    \"What is the main conflict in MOVIE?\",\n",
    "    \"Has MOVIE been critically reviewed by me?\",\n",
    "    \"What are the major themes explored in MOVIE?\",\n",
    "    \"Was MOVIE ever banned in any countries?\",\n",
    "    \"Is MOVIE typically shown in film studies classes?\",\n",
    "    \"Did MOVIE inspire any popular culture references?\",\n",
    "    \"What languages is MOVIE available in?\",\n",
    "    \"Has MOVIE been preserved in the National Film Registry?\",\n",
    "    \"What is the main conflict in MOVIE?\",\n",
    "    \"Who directed MOVIE?\",\n",
    "    \"Is MOVIE a James Bond movie?\",\n",
    "    \"Is MOVIE a black and white film?\",\n",
    "    \"Does MOVIE consist of three movies?\",\n",
    "    \"Does MOVIE depict the life of Neil Armstrong?\",\n",
    "    \"Is MOVIE set in the French Renaissance period?\",\n",
    "    \"Is MOVIE directed by Stanley Kubrick?\",\n",
    "    \"Is MOVIE a sequel?\",\n",
    "    \"Who directed MOVIE?\",\n",
    "    \"Is MOVIE based on a novel by Mario Puzo?\",\n",
    "    \"Is MOVIE a Turkish comedy film?\",\n",
    "    \"Does MOVIE feature the character Luke Skywalker?\",\n",
    "    \"Who directed MOVIE?\",\n",
    "    \"Who composed the score for MOVIE?\",\n",
    "    \"What's the name of the fictional land in MOVIE?\",\n",
    "    \"What is the name of the ship in MOVIE?\",\n",
    "    \"Who starred as the leading actor in MOVIE?\",\n",
    "    \"Who directed MOVIE?\",\n",
    "    \"Who directed MOVIE and what year was it released?\",\n",
    "    \"What is the IMDb rating for MOVIE?\",\n",
    "    \"Can you give me the Metacritic score for MOVIE?\",\n",
    "    \"What is the parental rating for MOVIE?\",\n",
    "    \"How many stars did MOVIE receive in its original New York Times review?\",\n",
    "    \"Can you show me a positive review for MOVIE?\",\n",
    "    \"What did critics say about MOVIE?\",\n",
    "    \"What was the general consensus on MOVIE after its release?\",\n",
    "    \"Did MOVIE get good reviews?\",\n",
    "    \"Name a movie that has been remade more than once.\",\n",
    "    \"What is the theme song of MOVIE?\",\n",
    "    \"Who voiced CHARACTER in MOVIE?\",\n",
    "    # Add more templates with \"MOVIE\" placeholder here...\n",
    "]\n",
    "\n",
    "# Function to generate training data\n",
    "def generate_training_data(movie_titles, templates, num_examples=20_000):\n",
    "    training_data = []\n",
    "    for _ in range(num_examples):\n",
    "        movie = random.choice(movie_titles)\n",
    "        template = random.choice(templates)\n",
    "        sentence = template.replace(\"MOVIE\", movie)\n",
    "        start = sentence.find(movie)\n",
    "        end = start + len(movie)\n",
    "        if start != -1:  # Only add if the movie title is found in the sentence\n",
    "            training_data.append((sentence, {\"entities\": [(start, end, \"MOVIE\")]}))\n",
    "    return training_data\n",
    "\n",
    "# Generate the training data\n",
    "TRAIN_DATA = generate_training_data(movie_titles, templates)\n",
    "print(TRAIN_DATA[:5])  # Print first 5 examples for preview\n"
   ],
   "metadata": {
    "collapsed": false,
    "ExecuteTime": {
     "end_time": "2023-11-19T15:40:13.770859Z",
     "start_time": "2023-11-19T15:40:13.611683800Z"
    }
   },
   "id": "initial_id"
  },
  {
   "cell_type": "code",
   "execution_count": 19,
   "outputs": [
    {
     "data": {
      "text/plain": "1"
     },
     "execution_count": 19,
     "metadata": {},
     "output_type": "execute_result"
    }
   ],
   "source": [
    "import spacy\n",
    "\n",
    "nlp = spacy.blank(\"en\")\n",
    "\n",
    "# Add the NER component to the pipeline\n",
    "nlp.add_pipe(\"ner\")\n",
    "\n",
    "# Get the NER component\n",
    "ner = nlp.get_pipe(\"ner\")\n",
    "\n",
    "# Add the label 'MOVIE' to the NER component\n",
    "ner.add_label(\"MOVIE\")\n",
    "\n"
   ],
   "metadata": {
    "collapsed": false,
    "ExecuteTime": {
     "end_time": "2023-11-19T15:40:24.705812500Z",
     "start_time": "2023-11-19T15:40:24.529314500Z"
    }
   },
   "id": "b28ed27d982c1e08"
  },
  {
   "cell_type": "code",
   "execution_count": 20,
   "outputs": [
    {
     "name": "stderr",
     "output_type": "stream",
     "text": [
      "/home/oliver/miniconda3/envs/atai2/lib/python3.10/site-packages/spacy/training/iob_utils.py:149: UserWarning: [W030] Some entities could not be aligned in the text \"Who directed ted?\" with entities \"[(9, 12, 'MOVIE')]\". Use `spacy.training.offsets_to_biluo_tags(nlp.make_doc(text), entities)` to check the alignment. Misaligned entities ('-') will be ignored during training.\n",
      "  warnings.warn(\n",
      "/home/oliver/miniconda3/envs/atai2/lib/python3.10/site-packages/spacy/training/iob_utils.py:149: UserWarning: [W030] Some entities could not be aligned in the text \"What is the main theme of ma?\" with entities \"[(12, 14, 'MOVIE')]\". Use `spacy.training.offsets_to_biluo_tags(nlp.make_doc(text), entities)` to check the alignment. Misaligned entities ('-') will be ignored during training.\n",
      "  warnings.warn(\n",
      "/home/oliver/miniconda3/envs/atai2/lib/python3.10/site-packages/spacy/training/iob_utils.py:149: UserWarning: [W030] Some entities could not be aligned in the text \"What is the IMDb rating for r?\" with entities \"[(17, 18, 'MOVIE')]\". Use `spacy.training.offsets_to_biluo_tags(nlp.make_doc(text), entities)` to check the alignment. Misaligned entities ('-') will be ignored during training.\n",
      "  warnings.warn(\n"
     ]
    },
    {
     "name": "stdout",
     "output_type": "stream",
     "text": [
      "Losses {'ner': 6122.04062707529}\n",
      "Losses {'ner': 684.515708318608}\n",
      "Losses {'ner': 485.7874869919336}\n",
      "Losses {'ner': 365.20056464352086}\n",
      "Losses {'ner': 298.92765461812536}\n",
      "Losses {'ner': 238.50144390637917}\n",
      "Losses {'ner': 183.43727009282426}\n",
      "Losses {'ner': 183.96613388011676}\n",
      "Losses {'ner': 137.05197504776606}\n",
      "Losses {'ner': 167.9971905961173}\n",
      "Losses {'ner': 122.73885004549734}\n",
      "Losses {'ner': 91.8256665806057}\n",
      "Losses {'ner': 103.722571745754}\n",
      "Losses {'ner': 112.93383304310981}\n",
      "Losses {'ner': 112.99693099605572}\n",
      "Losses {'ner': 91.36841915520223}\n",
      "Losses {'ner': 73.83407301634246}\n",
      "Losses {'ner': 89.62403467462441}\n",
      "Losses {'ner': 88.08806810989105}\n",
      "Losses {'ner': 64.13958813209973}\n",
      "Losses {'ner': 62.36690722843117}\n",
      "Losses {'ner': 82.26001905492285}\n",
      "Losses {'ner': 66.22604302435471}\n",
      "Losses {'ner': 76.72206408890099}\n",
      "Losses {'ner': 67.19649063918716}\n",
      "Losses {'ner': 60.618593689251455}\n",
      "Losses {'ner': 74.7118454039992}\n",
      "Losses {'ner': 49.31417038009024}\n",
      "Losses {'ner': 47.82522493889114}\n",
      "Losses {'ner': 68.74593455555582}\n",
      "Losses {'ner': 42.73200949097412}\n",
      "Losses {'ner': 92.17276245124158}\n",
      "Losses {'ner': 51.35218436481764}\n",
      "Losses {'ner': 60.343061370518406}\n",
      "Losses {'ner': 44.35888209619513}\n",
      "Losses {'ner': 29.421185059400614}\n",
      "Losses {'ner': 58.11483284412773}\n",
      "Losses {'ner': 71.2374052488151}\n",
      "Losses {'ner': 40.10852093067139}\n",
      "Losses {'ner': 50.876300647202044}\n",
      "Losses {'ner': 42.171487135294115}\n",
      "Losses {'ner': 57.40357879439518}\n",
      "Losses {'ner': 28.67770884734245}\n",
      "Losses {'ner': 58.32540089887568}\n",
      "Losses {'ner': 44.17158132577075}\n",
      "Losses {'ner': 68.86392858815029}\n",
      "Losses {'ner': 34.706983584550294}\n",
      "Losses {'ner': 36.293003882324406}\n",
      "Losses {'ner': 56.93635373209698}\n",
      "Losses {'ner': 32.496739468956235}\n",
      "Losses {'ner': 52.18475517803897}\n",
      "Losses {'ner': 59.37603818099244}\n",
      "Losses {'ner': 67.13714485313865}\n",
      "Losses {'ner': 30.426922361865753}\n",
      "Losses {'ner': 21.977730321274866}\n",
      "Losses {'ner': 46.0623187072308}\n",
      "Losses {'ner': 40.188173033519874}\n",
      "Losses {'ner': 33.07137943310043}\n",
      "Losses {'ner': 39.44014077688586}\n",
      "Losses {'ner': 38.51030620544279}\n",
      "Losses {'ner': 31.89016109373779}\n",
      "Losses {'ner': 27.308900531553455}\n",
      "Losses {'ner': 34.91821763295414}\n",
      "Losses {'ner': 49.65805493907223}\n",
      "Losses {'ner': 34.241340266659414}\n",
      "Losses {'ner': 38.131715851856825}\n",
      "Losses {'ner': 45.32555837590885}\n",
      "Losses {'ner': 36.61747151039692}\n",
      "Losses {'ner': 40.69702180449728}\n",
      "Losses {'ner': 43.142377389553786}\n",
      "Losses {'ner': 36.67832757264296}\n",
      "Losses {'ner': 32.00609293592033}\n",
      "Losses {'ner': 34.68183283099562}\n",
      "Losses {'ner': 70.08049715575582}\n",
      "Losses {'ner': 40.4064772457219}\n",
      "Losses {'ner': 38.61687199868292}\n",
      "Losses {'ner': 17.57173100467524}\n",
      "Losses {'ner': 37.378571320964966}\n",
      "Losses {'ner': 41.01699112809232}\n",
      "Losses {'ner': 22.01488510381382}\n",
      "Losses {'ner': 43.790940761216525}\n",
      "Losses {'ner': 49.53588709799345}\n",
      "Losses {'ner': 43.85319642422119}\n",
      "Losses {'ner': 38.02536356671403}\n",
      "Losses {'ner': 19.064647192103475}\n",
      "Losses {'ner': 39.759126668360345}\n",
      "Losses {'ner': 15.984513571596231}\n",
      "Losses {'ner': 40.211488389751324}\n",
      "Losses {'ner': 51.13708866355188}\n",
      "Losses {'ner': 55.43229183214877}\n",
      "Losses {'ner': 25.646127624982178}\n",
      "Losses {'ner': 42.49442063613268}\n",
      "Losses {'ner': 25.588593727488206}\n",
      "Losses {'ner': 40.43430294977546}\n",
      "Losses {'ner': 37.681120848511846}\n",
      "Losses {'ner': 39.460197436745695}\n",
      "Losses {'ner': 46.47487830520155}\n",
      "Losses {'ner': 35.8231927279961}\n",
      "Losses {'ner': 34.528922490944524}\n",
      "Losses {'ner': 45.80482513142547}\n"
     ]
    }
   ],
   "source": [
    "from spacy.util import minibatch, compounding\n",
    "from spacy.training import Example\n",
    "\n",
    "import random\n",
    "def create_examples(texts, annotations, nlp):\n",
    "    examples = []\n",
    "    for text, annot in zip(texts, annotations):\n",
    "        # Create a spaCy Doc from the text\n",
    "        doc = nlp.make_doc(text)\n",
    "        # Create an Example object from the Doc and the annotations\n",
    "        example = Example.from_dict(doc, annot)\n",
    "        examples.append(example)\n",
    "    return examples\n",
    "\n",
    "\n",
    "optimizer = nlp.begin_training()\n",
    "\n",
    "for itn in range(100):  # Number of training iterations\n",
    "    random.shuffle(TRAIN_DATA)\n",
    "    losses = {}\n",
    "\n",
    "    # Batch up the examples using spaCy's minibatch\n",
    "    batches = minibatch(TRAIN_DATA, size=compounding(4., 32., 1.001))\n",
    "    for batch in batches:\n",
    "        texts, annotations = zip(*batch)\n",
    "        examples = create_examples(texts, annotations, nlp)\n",
    "        nlp.update(examples, drop=0.5, losses=losses)\n",
    "    \n",
    "    print(\"Losses\", losses)\n",
    "\n"
   ],
   "metadata": {
    "collapsed": false,
    "ExecuteTime": {
     "end_time": "2023-11-19T17:05:51.347247Z",
     "start_time": "2023-11-19T15:40:26.837405100Z"
    }
   },
   "id": "d1488a164e3ae6a3"
  },
  {
   "cell_type": "code",
   "execution_count": 22,
   "outputs": [
    {
     "name": "stdout",
     "output_type": "stream",
     "text": [
      "()\n"
     ]
    }
   ],
   "source": [
    "test_text = \"Let's talk about Avatar.\"\n",
    "\n",
    "doc = nlp(test_text)\n",
    "print(doc.ents)\n",
    "for ent in doc.ents:\n",
    "    print(ent.text, ent.label_)\n"
   ],
   "metadata": {
    "collapsed": false,
    "ExecuteTime": {
     "end_time": "2023-11-19T17:19:25.708574500Z",
     "start_time": "2023-11-19T17:19:25.698563300Z"
    }
   },
   "id": "2c4e8ecc55486e0e"
  },
  {
   "cell_type": "code",
   "execution_count": null,
   "outputs": [],
   "source": [],
   "metadata": {
    "collapsed": false
   },
   "id": "ea9c629c61467648"
  }
 ],
 "metadata": {
  "kernelspec": {
   "display_name": "Python 3",
   "language": "python",
   "name": "python3"
  },
  "language_info": {
   "codemirror_mode": {
    "name": "ipython",
    "version": 2
   },
   "file_extension": ".py",
   "mimetype": "text/x-python",
   "name": "python",
   "nbconvert_exporter": "python",
   "pygments_lexer": "ipython2",
   "version": "2.7.6"
  }
 },
 "nbformat": 4,
 "nbformat_minor": 5
}
