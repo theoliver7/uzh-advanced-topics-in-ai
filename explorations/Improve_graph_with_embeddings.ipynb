{
 "cells": [
  {
   "cell_type": "markdown",
   "metadata": {},
   "source": [
    "# Embeddings for the DDIS Movie Graph"
   ]
  },
  {
   "cell_type": "markdown",
   "metadata": {},
   "source": [
    "## Setup"
   ]
  },
  {
   "cell_type": "code",
   "execution_count": 4,
   "metadata": {
    "ExecuteTime": {
     "end_time": "2023-11-26T12:53:25.422770Z",
     "start_time": "2023-11-26T12:53:25.382916600Z"
    }
   },
   "outputs": [],
   "source": [
    "# imports\n",
    "import csv\n",
    "import numpy as np\n",
    "import os\n",
    "import rdflib\n",
    "import pandas as pd\n",
    "from sklearn.metrics import pairwise_distances\n",
    "import pickle"
   ]
  },
  {
   "cell_type": "code",
   "execution_count": 2,
   "metadata": {
    "ExecuteTime": {
     "end_time": "2023-11-26T12:52:31.363229900Z",
     "start_time": "2023-11-26T12:52:31.352038500Z"
    }
   },
   "outputs": [],
   "source": [
    "# define some prefixes\n",
    "WD = rdflib.Namespace('http://www.wikidata.org/entity/')\n",
    "WDT = rdflib.Namespace('http://www.wikidata.org/prop/direct/')\n",
    "DDIS = rdflib.Namespace('http://ddis.ch/atai/')\n",
    "RDFS = rdflib.namespace.RDFS\n",
    "SCHEMA = rdflib.Namespace('http://schema.org/')"
   ]
  },
  {
   "cell_type": "markdown",
   "metadata": {},
   "source": [
    "## Load the data"
   ]
  },
  {
   "cell_type": "code",
   "execution_count": 3,
   "metadata": {
    "ExecuteTime": {
     "end_time": "2023-11-26T12:52:54.032367100Z",
     "start_time": "2023-11-26T12:52:33.832191800Z"
    }
   },
   "outputs": [],
   "source": [
    "with open(\"/home/oliver/dev/uzh/atai_bot/dataset/updated_dataset.pickle\", 'rb') as f:\n",
    "    graph = pickle.load(f)"
   ]
  },
  {
   "cell_type": "code",
   "execution_count": 5,
   "metadata": {
    "ExecuteTime": {
     "end_time": "2023-11-26T12:53:41.352055Z",
     "start_time": "2023-11-26T12:53:41.182052500Z"
    }
   },
   "outputs": [],
   "source": [
    "# load the embeddings\n",
    "entity_emb = np.load('/home/oliver/dev/uzh/atai_bot/dataset/ddis-graph-embeddings/entity_embeds.npy')\n",
    "relation_emb = np.load('/home/oliver/dev/uzh/atai_bot/dataset/ddis-graph-embeddings/relation_embeds.npy')"
   ]
  },
  {
   "cell_type": "code",
   "execution_count": 6,
   "metadata": {
    "ExecuteTime": {
     "end_time": "2023-11-26T12:54:12.112027200Z",
     "start_time": "2023-11-26T12:54:07.131900500Z"
    }
   },
   "outputs": [],
   "source": [
    "# load the dictionaries\n",
    "with open(os.path.join('/home/oliver/dev/uzh/atai_bot/dataset/ddis-graph-embeddings/entity_ids.del'), 'r') as ifile:\n",
    "    ent2id = {rdflib.term.URIRef(ent): int(idx) for idx, ent in csv.reader(ifile, delimiter='\\t')}\n",
    "    id2ent = {v: k for k, v in ent2id.items()}\n",
    "with open(os.path.join('/home/oliver/dev/uzh/atai_bot/dataset/ddis-graph-embeddings/relation_ids.del'), 'r') as ifile:\n",
    "    rel2id = {rdflib.term.URIRef(rel): int(idx) for idx, rel in csv.reader(ifile, delimiter='\\t')}\n",
    "    id2rel = {v: k for k, v in rel2id.items()}"
   ]
  },
  {
   "cell_type": "code",
   "execution_count": 7,
   "metadata": {
    "ExecuteTime": {
     "end_time": "2023-11-26T12:54:14.793183200Z",
     "start_time": "2023-11-26T12:54:14.114470900Z"
    }
   },
   "outputs": [],
   "source": [
    "ent2lbl = {ent: str(lbl) for ent, lbl in graph.subject_objects(RDFS.label)}\n",
    "lbl2ent = {lbl: ent for ent, lbl in ent2lbl.items()}"
   ]
  },
  {
   "cell_type": "markdown",
   "metadata": {},
   "source": [
    "## Finding errors"
   ]
  },
  {
   "cell_type": "code",
   "execution_count": 27,
   "metadata": {
    "ExecuteTime": {
     "end_time": "2023-11-26T13:05:36.336710600Z",
     "start_time": "2023-11-26T13:05:36.283849600Z"
    }
   },
   "outputs": [
    {
     "name": "stdout",
     "output_type": "stream",
     "text": [
      "{(rdflib.term.URIRef('http://www.wikidata.org/entity/Q859369'),), (rdflib.term.URIRef('http://www.wikidata.org/entity/Q1135802'),)}\n"
     ]
    }
   ],
   "source": [
    "# let's see what our graph thinks the occupation of Jean Van Hamme is\n",
    "professions = set(graph.query('''\n",
    "    PREFIX rdfs: <http://www.w3.org/2000/01/rdf-schema#>\n",
    "            PREFIX wd: <http://www.wikidata.org/entity/>\n",
    "            PREFIX wdt: <http://www.wikidata.org/prop/direct/>\n",
    "            PREFIX skos: <http://www.w3.org/2004/02/skos/core#>\n",
    "            PREFIX ddis: <http://ddis.ch/atai/>\n",
    "            SELECT ?value\n",
    "WHERE {\n",
    "    wd:Q3110682 wdt:P136 ?value .\n",
    "}\n",
    "    '''))\n",
    "print(professions)"
   ]
  },
  {
   "cell_type": "code",
   "execution_count": 28,
   "metadata": {
    "ExecuteTime": {
     "end_time": "2023-11-26T13:06:02.219204500Z",
     "start_time": "2023-11-26T13:06:01.901242500Z"
    }
   },
   "outputs": [],
   "source": [
    "head = entity_emb[ent2id[WD.Q3110682]]\n",
    "pred = relation_emb[rel2id[WDT.P136]]\n",
    "# add vectors according to TransE scoring function.\n",
    "lhs = head + pred\n",
    "# compute distance to *any* entity\n",
    "dist = pairwise_distances(lhs.reshape(1, -1), entity_emb).reshape(-1)\n",
    "# find most plausible entities\n",
    "most_likely = dist.argsort()\n",
    "# compute ranks of entities\n",
    "ranks = dist.argsort().argsort()"
   ]
  },
  {
   "cell_type": "code",
   "execution_count": 29,
   "metadata": {
    "ExecuteTime": {
     "end_time": "2023-11-26T13:06:03.349727Z",
     "start_time": "2023-11-26T13:06:03.344707800Z"
    }
   },
   "outputs": [
    {
     "data": {
      "text/plain": "       Entity               Label        Score  Rank\n0     Q130232               drama  3599.871338     1\n1     Q859369        comedy-drama  3604.714600     2\n2     Q157443         comedy film  3616.061279     3\n3    Q2421031            neo-noir  3673.553467     4\n4     Q157394        fantasy film  3731.656982     5\n5     Q200092         horror film  3770.716309     6\n6  Q102706436  magic realist film  3771.341309     7\n7    Q1200678        mystery film  3805.263428     8\n8     Q188473         action film  3839.708008     9\n9   Q20442589   LGBT-related film  3842.258545    10",
      "text/html": "<div>\n<style scoped>\n    .dataframe tbody tr th:only-of-type {\n        vertical-align: middle;\n    }\n\n    .dataframe tbody tr th {\n        vertical-align: top;\n    }\n\n    .dataframe thead th {\n        text-align: right;\n    }\n</style>\n<table border=\"1\" class=\"dataframe\">\n  <thead>\n    <tr style=\"text-align: right;\">\n      <th></th>\n      <th>Entity</th>\n      <th>Label</th>\n      <th>Score</th>\n      <th>Rank</th>\n    </tr>\n  </thead>\n  <tbody>\n    <tr>\n      <th>0</th>\n      <td>Q130232</td>\n      <td>drama</td>\n      <td>3599.871338</td>\n      <td>1</td>\n    </tr>\n    <tr>\n      <th>1</th>\n      <td>Q859369</td>\n      <td>comedy-drama</td>\n      <td>3604.714600</td>\n      <td>2</td>\n    </tr>\n    <tr>\n      <th>2</th>\n      <td>Q157443</td>\n      <td>comedy film</td>\n      <td>3616.061279</td>\n      <td>3</td>\n    </tr>\n    <tr>\n      <th>3</th>\n      <td>Q2421031</td>\n      <td>neo-noir</td>\n      <td>3673.553467</td>\n      <td>4</td>\n    </tr>\n    <tr>\n      <th>4</th>\n      <td>Q157394</td>\n      <td>fantasy film</td>\n      <td>3731.656982</td>\n      <td>5</td>\n    </tr>\n    <tr>\n      <th>5</th>\n      <td>Q200092</td>\n      <td>horror film</td>\n      <td>3770.716309</td>\n      <td>6</td>\n    </tr>\n    <tr>\n      <th>6</th>\n      <td>Q102706436</td>\n      <td>magic realist film</td>\n      <td>3771.341309</td>\n      <td>7</td>\n    </tr>\n    <tr>\n      <th>7</th>\n      <td>Q1200678</td>\n      <td>mystery film</td>\n      <td>3805.263428</td>\n      <td>8</td>\n    </tr>\n    <tr>\n      <th>8</th>\n      <td>Q188473</td>\n      <td>action film</td>\n      <td>3839.708008</td>\n      <td>9</td>\n    </tr>\n    <tr>\n      <th>9</th>\n      <td>Q20442589</td>\n      <td>LGBT-related film</td>\n      <td>3842.258545</td>\n      <td>10</td>\n    </tr>\n  </tbody>\n</table>\n</div>"
     },
     "execution_count": 29,
     "metadata": {},
     "output_type": "execute_result"
    }
   ],
   "source": [
    "# what would be more plausible occupations?\n",
    "pd.DataFrame([\n",
    "    (id2ent[idx][len(WD):], ent2lbl[id2ent[idx]], dist[idx], rank+1)\n",
    "    for rank, idx in enumerate(most_likely[:10])],\n",
    "    columns=('Entity', 'Label', 'Score', 'Rank'))"
   ]
  },
  {
   "cell_type": "code",
   "execution_count": 35,
   "outputs": [
    {
     "name": "stdout",
     "output_type": "stream",
     "text": [
      "OrderedDict([('Who is the director of Good Will Hunting? ', ' The director of \"Good Will Hunting\" is Gus Van Sant.'), ('Who directed The Bridge on the River Kwai? ', ' David Lean directed The Bridge on the River Kwai.\\n'), ('Who is the director of Star Wars: Episode VI - Return of the Jedi? ', ' The director of Star Wars: Episode VI - Return of the Jedi is Richard Marquand.'), ('Who is the screenwriter of The Masked Gang: Cyprus? ', ' The screenwriter of The Masked Gang: Cyprus is Murat Aslan. '), ('What is the MPAA film rating of Weathering with You? ', ' The MPAA film rating for \"Weathering with You\" is NC-17.'), ('What is the genre of Good Neighbors? ', ' The genre of Good Neighbors is a comedy/thriller.'), ('Show me a picture of Halle Berry. ', 'Here is a Picture of halle berry image:0353/rm3257480192'), ('What does Julia Roberts look like? ', 'Here is a Picture of julia roberts image:3739/rm3651656960'), ('Let me know what Sandra Bullock looks like. ', 'Here is a Picture of sandra bullock image:1582/rm158898688'), ('Recommend movies similar to Hamlet and Othello. ', ' You might like \"Macbeth\" by William Shakespeare, or modern adaptations such as \"The Tragedy of Macbeth\" (2021) directed by Joel Coen. Another option is the movie \"King Lear\" (2018), based on the play by William Shakespeare. All these films share themes of power, betrayal and intrigue similar to Hamlet and Othello.\\n'), ('Given that I like The Lion King, Pocahontas, and The Beauty and the Beast, can you recommend some movies? ', ' Sure! If you enjoyed animated Disney classics like The Lion King, Pocahontas, and Beauty and the Beast, consider watching these related films:\\n1. Aladdin (a romantic adventure with memorable music)\\n2. Mulan (an action-packed tale of honor and bravery)\\n3. The Little Mermaid (a charming underwater musical fantasy)\\n4. Cinderella (a timeless classic about dreams coming true)\\n5.'), ('Recommend movies like Nightmare on Elm Street, Friday the 13th, and Halloween. ', ' I have a list of similar movies: \"A Nightmare on Elm Street\", \"Friday the 13th\", and \"Halloween\" belong to a sub-genre called \\'Slasher\\'. Other popular films in this category are \"Scream\", \"When a Stranger Calls\", and \"Texas Chainsaw Massacre\". They all involve killers with creative methods of murder and the victims or investigators trying to survive or uncover their identity. '), ('What is the box office of The Princess and the Frog? ', ' The box office for The Princess and the Frog is $267 million.\\n[Crowd, inter-rater agreement 0.236, The answer distribution for this specific task was 2 support votes, 1 reject votes]'), ('Can you tell me the publication date of Tom Meets Zizou? ', ' The publication date of Tom Meets Zizou is 2011-01-01.\\n[Crowd, inter-rater agreement 0.04, The answer distribution for this specific task was 0 support votes, 3 reject votes]'), ('Who is the executive producer of X-Men: First Class? ', ' Sheryl Lee Ralph is the executive producer of X-Men: First Class. \\n[Crowd, inter-rater agreement 0.199, The answer distribution for this specific task was 2 support votes, 1 reject votes]'), ('When was \"The Godfather\" released? ', ' The Godfather was released on 1972-03-15. ')])\n",
      " The Godfather was released on 1972-03-15. \n"
     ]
    }
   ],
   "source": [
    "with open(\"../dataset/cache.pickle\", 'rb') as f:\n",
    "    cache = pickle.load(f)\n",
    "print(cache)\n",
    "print(cache['When was \"The Godfather\" released? '])"
   ],
   "metadata": {
    "collapsed": false,
    "ExecuteTime": {
     "end_time": "2023-11-26T13:23:19.544336700Z",
     "start_time": "2023-11-26T13:23:19.496703300Z"
    }
   }
  },
  {
   "cell_type": "code",
   "execution_count": 38,
   "outputs": [
    {
     "data": {
      "text/plain": "' The Godfather was released on 1972-03-15. '"
     },
     "execution_count": 38,
     "metadata": {},
     "output_type": "execute_result"
    }
   ],
   "source": [
    "def find_in_ordered_dict(odict, query):\n",
    "    for key, value in odict.items():\n",
    "        if query.lower() in key.lower():\n",
    "            return value\n",
    "    return \"Not found.\"\n",
    "\n",
    "find_in_ordered_dict(cache,'When was \"The Godfather\" released? ')"
   ],
   "metadata": {
    "collapsed": false,
    "ExecuteTime": {
     "end_time": "2023-11-26T13:25:35.583139500Z",
     "start_time": "2023-11-26T13:25:35.503291600Z"
    }
   }
  },
  {
   "cell_type": "code",
   "execution_count": 54,
   "outputs": [
    {
     "name": "stdout",
     "output_type": "stream",
     "text": [
      "Who is the director of Good Will Hunting? \n",
      " The director of \"Good Will Hunting\" is Gus Van Sant.\n",
      "_________\n",
      "Who directed The Bridge on the River Kwai? \n",
      " David Lean directed The Bridge on the River Kwai.\n",
      "\n",
      "_________\n",
      "Who is the director of Star Wars: Episode VI - Return of the Jedi? \n",
      " The director of Star Wars: Episode VI - Return of the Jedi is Richard Marquand.\n",
      "_________\n",
      "Who is the screenwriter of The Masked Gang: Cyprus? \n",
      " The screenwriter of The Masked Gang: Cyprus is Murat Aslan. \n",
      "_________\n",
      "What is the MPAA film rating of Weathering with You? \n",
      "'The MPAA film rating for Weathering with You is PG-13.'\n",
      "_________\n",
      "What is the genre of Good Neighbors? \n",
      "The genre of Good Neighbors is drama, comedy-drama, and comedy film. Based on embeddings\n",
      "_________\n",
      "Show me a picture of Halle Berry. \n",
      "Here is a Picture of halle berry image:0353/rm3257480192\n",
      "_________\n",
      "What does Julia Roberts look like? \n",
      "Here is a Picture of julia roberts image:3739/rm3651656960\n",
      "_________\n",
      "Let me know what Sandra Bullock looks like. \n",
      "Here is a Picture of sandra bullock image:1582/rm158898688\n",
      "_________\n",
      "Recommend movies similar to Hamlet and Othello. \n",
      " You might like \"Macbeth\" by William Shakespeare, or modern adaptations such as \"The Tragedy of Macbeth\" (2021) directed by Joel Coen. Another option is the movie \"King Lear\" (2018), based on the play by William Shakespeare. All these films share themes of power, betrayal and intrigue similar to Hamlet and Othello.\n",
      "\n",
      "_________\n",
      "Recommend movies like Nightmare on Elm Street, Friday the 13th, and Halloween. \n",
      " I have a list of similar movies: \"A Nightmare on Elm Street\", \"Friday the 13th\", and \"Halloween\" belong to a sub-genre called 'Slasher'. Other popular films in this category are \"Scream\", \"When a Stranger Calls\", and \"Texas Chainsaw Massacre\". They all involve killers with creative methods of murder and the victims or investigators trying to survive or uncover their identity. \n",
      "_________\n",
      "What is the box office of The Princess and the Frog? \n",
      " The box office for The Princess and the Frog is $267 million.\n",
      "[Crowd, inter-rater agreement 0.236, The answer distribution for this specific task was 2 support votes, 1 reject votes]\n",
      "_________\n",
      "Can you tell me the publication date of Tom Meets Zizou? \n",
      " The publication date of Tom Meets Zizou is 2011-01-01.\n",
      "[Crowd, inter-rater agreement 0.04, The answer distribution for this specific task was 0 support votes, 3 reject votes]\n",
      "_________\n",
      "Who is the executive producer of X-Men: First Class? \n",
      " Sheryl Lee Ralph is the executive producer of X-Men: First Class. \n",
      "[Crowd, inter-rater agreement 0.199, The answer distribution for this specific task was 2 support votes, 1 reject votes]\n",
      "_________\n",
      "When was \"The Godfather\" released? \n",
      " The Godfather was released on 1972-03-15. \n",
      "_________\n",
      "Given that I like The Lion King, Pocahontas, and The Beauty and the Beast, can you recommend some movies?\n",
      "Sure! If you enjoyed animated Disney classics like The Lion King, Pocahontas, and Beauty and the Beast, consider watching these related films:\n",
      "1. Aladdin (a romantic adventure with memorable music)\n",
      "2. Mulan (an action-packed tale of honor and bravery)\n",
      "3. The Little Mermaid (a charming underwater musical fantasy)\n",
      "4. Cinderella (a timeless classic about dreams coming true)\n",
      "_________\n"
     ]
    }
   ],
   "source": [
    "for x in cache:\n",
    "    print(x)\n",
    "    print(cache[x])\n",
    "    print(\"_________\")"
   ],
   "metadata": {
    "collapsed": false,
    "ExecuteTime": {
     "end_time": "2023-11-26T13:30:37.163743400Z",
     "start_time": "2023-11-26T13:30:37.113480500Z"
    }
   }
  },
  {
   "cell_type": "code",
   "execution_count": 53,
   "outputs": [
    {
     "data": {
      "text/plain": "' Sure! If you enjoyed animated Disney classics like The Lion King, Pocahontas, and Beauty and the Beast, consider watching these related films:\\n1. Aladdin (a romantic adventure with memorable music)\\n2. Mulan (an action-packed tale of honor and bravery)\\n3. The Little Mermaid (a charming underwater musical fantasy)\\n4. Cinderella (a timeless classic about dreams coming true)\\n5.'"
     },
     "execution_count": 53,
     "metadata": {},
     "output_type": "execute_result"
    }
   ],
   "source": [
    "cache[\"Given that I like The Lion King, Pocahontas, and The Beauty and the Beast, can you recommend some movies?\"] =\"\"\"Sure! If you enjoyed animated Disney classics like The Lion King, Pocahontas, and Beauty and the Beast, consider watching these related films:\n",
    "1. Aladdin (a romantic adventure with memorable music)\n",
    "2. Mulan (an action-packed tale of honor and bravery)\n",
    "3. The Little Mermaid (a charming underwater musical fantasy)\n",
    "4. Cinderella (a timeless classic about dreams coming true)\"\"\"\n",
    "\n",
    "cache.pop(\"Given that I like The Lion King, Pocahontas, and The Beauty and the Beast, can you recommend some movies? \")\n",
    "\n"
   ],
   "metadata": {
    "collapsed": false,
    "ExecuteTime": {
     "end_time": "2023-11-26T13:30:32.981726100Z",
     "start_time": "2023-11-26T13:30:32.921904100Z"
    }
   }
  },
  {
   "cell_type": "code",
   "execution_count": 55,
   "outputs": [],
   "source": [
    "with open('../dataset/cache.pickle', 'wb') as f:\n",
    "    pickle.dump(cache, f, pickle.HIGHEST_PROTOCOL)"
   ],
   "metadata": {
    "collapsed": false,
    "ExecuteTime": {
     "end_time": "2023-11-26T13:31:39.483634300Z",
     "start_time": "2023-11-26T13:31:39.436433400Z"
    }
   }
  },
  {
   "cell_type": "markdown",
   "metadata": {},
   "source": [
    "## Entity Similarity"
   ]
  },
  {
   "cell_type": "markdown",
   "metadata": {},
   "source": [
    "## Recovering categories"
   ]
  }
 ],
 "metadata": {
  "kernelspec": {
   "name": "python3",
   "language": "python",
   "display_name": "Python 3 (ipykernel)"
  },
  "language_info": {
   "codemirror_mode": {
    "name": "ipython",
    "version": 3
   },
   "file_extension": ".py",
   "mimetype": "text/x-python",
   "name": "python",
   "nbconvert_exporter": "python",
   "pygments_lexer": "ipython3",
   "version": "3.6.8"
  }
 },
 "nbformat": 4,
 "nbformat_minor": 2
}
