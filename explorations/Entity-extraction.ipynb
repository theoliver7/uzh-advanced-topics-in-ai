{
 "cells": [
  {
   "cell_type": "code",
   "execution_count": 1,
   "outputs": [],
   "source": [
    "import pickle\n",
    "\n",
    "questions = [\"Given that I like The Lion King, Pocahontas, and The Beauty and the Beast, can you recommend some movies?\",\n",
    "             \"Is Public Enemy No. 1 - Todestrieb a crime thriller?\",\n",
    "             \"Did Christopher Nolan direct Inception?\",\n",
    "             \"Is GoldenEye 007 a James Bond movie?\",\n",
    "             \"Is Following a black and white film?\",\n",
    "             \"Does the The Lord of the Rings trilogy consist of three movies?\",\n",
    "             \"Does First Man depict the life of Neil Armstrong?\",\n",
    "             \"Is La Princesse de Clèves set in the French Renaissance period?\",\n",
    "             \"Is 2001: A Space Odyssey directed by Stanley Kubrick?\",\n",
    "             \"Is Devil in the Flesh 2  a sequel?\",\n",
    "             \"Did James Cameron direct Titanic?\",\n",
    "             \"Is The Godfather based on a novel by Mario Puzo?\",\n",
    "             \"Is The Masked Gang: Cyprus a Turkish comedy film?\",\n",
    "             \"Does Star Wars: Episode VI - Return of the Jedi feature the character Luke Skywalker?\",\n",
    "             \"Who directed the movie Apocalypse Now?\",\n",
    "             \"What movie won the Best Picture Oscar in 2021?\",\n",
    "             \"Which film features a character named Sarah Connor?\",\n",
    "             \"Can you list three movies directed by Martin Scorsese?\",\n",
    "             \"What is the highest-grossing film of all time?\",\n",
    "             \"Who composed the score for the 'Pirates of the Caribbean' series?\",\n",
    "             \"Name a science fiction movie with a twist ending.\",\n",
    "             \"What's the name of the fictional land in 'The Lord of the Rings'?\",\n",
    "             \"Who played the role of Harry Potter in the movie series?\",\n",
    "             \"What is the name of the ship in 'Titanic'?\",\n",
    "             \"In which movie did Tom Hanks say, 'Life is like a box of chocolates'?\",\n",
    "             \"Which actor has played the role of Spider-Man on film?\",\n",
    "             \"Name a movie where Meryl Streep plays a chef.\",\n",
    "             \"Who starred as the leading actor in 'The Revenant'?\",\n",
    "             \"Can you list three films Jennifer Lawrence has been in?\",\n",
    "             \"What was Will Smith's first movie?\",\n",
    "             \"Who directed 'The Grand Budapest Hotel'?\",\n",
    "             \"Name a movie directed by Ava DuVernay.\",\n",
    "             \"Which director is known for the 'Dark Knight' trilogy?\",\n",
    "             \"Who directed 'Schindler's List' and what year was it released?\",\n",
    "             \"Can you name a horror movie directed by Jordan Peele?\",\n",
    "             \"What is the IMDb rating for 'The Shawshank Redemption'?\",\n",
    "             \"Which movie has a perfect score on Rotten Tomatoes?\",\n",
    "             \"Can you give me the Metacritic score for 'Mad Max: Fury Road'?\",\n",
    "             \"What is the parental rating for 'Jurassic Park'?\",\n",
    "             \"How many stars did 'La La Land' receive in its original New York Times review?\",\n",
    "             \"Can you show me a positive review for 'The Godfather'?\",\n",
    "             \"What did critics say about 'Avatar'?\",\n",
    "             \"Are there any Oscar-winning movies that received bad reviews?\",\n",
    "             \"What was the general consensus on 'The Shape of Water' after its release?\",\n",
    "             \"Did 'Black Panther' get good reviews?\",\n",
    "             \"What 1994 crime film revitalized John Travolta's career?\",\n",
    "             \"Which movie's famous line is 'I'll be back'?\",\n",
    "             \"What is the fictional brand of cigarettes in Quentin Tarantino's films?\",\n",
    "             \"Can you name a movie where the protagonist is a toy?\",\n",
    "             \"Which film features an iconic dance scene between Uma Thurman and John Travolta?\",\n",
    "             \"Which movies are part of the Marvel Cinematic Universe Phase 4?\",\n",
    "             \"Name a movie that has been remade more than once.\",\n",
    "             \"What is the theme song of 'Mission: Impossible'?\",\n",
    "             \"Who voiced Woody in 'Toy Story'?\",\n",
    "             \"What are the three rules for caring for a Mogwai in 'Gremlins'?\",\n",
    "             'What is the genre of Shoplifters?',\n",
    "'Who directed Incepiton?',\n",
    "'When was the dark knight released?',\n",
    "'Was Captain America Cilivl War released in 2008?',]\n"
   ],
   "metadata": {
    "collapsed": false,
    "ExecuteTime": {
     "end_time": "2023-11-27T16:40:52.107656800Z",
     "start_time": "2023-11-27T16:40:52.047344100Z"
    }
   },
   "id": "c3e0e1bd4dbfb4a0"
  },
  {
   "cell_type": "code",
   "execution_count": 2,
   "outputs": [
    {
     "name": "stderr",
     "output_type": "stream",
     "text": [
      "Some weights of the model checkpoint at dslim/bert-large-NER were not used when initializing BertForTokenClassification: ['bert.pooler.dense.weight', 'bert.pooler.dense.bias']\n",
      "- This IS expected if you are initializing BertForTokenClassification from the checkpoint of a model trained on another task or with another architecture (e.g. initializing a BertForSequenceClassification model from a BertForPreTraining model).\n",
      "- This IS NOT expected if you are initializing BertForTokenClassification from the checkpoint of a model that you expect to be exactly identical (initializing a BertForSequenceClassification model from a BertForSequenceClassification model).\n"
     ]
    },
    {
     "name": "stdout",
     "output_type": "stream",
     "text": [
      "People: ['Leonardo DiCaprio']\n",
      "Movies: []\n"
     ]
    }
   ],
   "source": [
    "import torch\n",
    "from transformers import AutoModelForTokenClassification, AutoTokenizer\n",
    "\n",
    "# Load pre-trained model and tokenizer\n",
    "tokenizer = AutoTokenizer.from_pretrained(\"dslim/bert-large-NER\")\n",
    "model = AutoModelForTokenClassification.from_pretrained(\"dslim/bert-large-NER\")\n",
    "\n",
    "def get_entities(sentence):\n",
    "\n",
    "    # Tokenize the sentence and obtain model outputs\n",
    "    inputs = tokenizer(sentence, return_tensors=\"pt\", truncation=True, padding=True)\n",
    "    outputs = model(**inputs).logits\n",
    "    predictions = torch.argmax(outputs, dim=2)[0].tolist()\n",
    "\n",
    "    # Convert token and label IDs to strings\n",
    "    tokens = tokenizer.convert_ids_to_tokens(inputs[\"input_ids\"][0])\n",
    "    labels = [model.config.id2label[label_id] for label_id in predictions]\n",
    "    # Collect entities and their labels\n",
    "    m_entities = []\n",
    "    p_entities = []\n",
    "    entity = \"\"\n",
    "    current_label = None  # Keep track of the current entity label\n",
    "    for token, label in zip(tokens, labels):\n",
    "        if label.startswith(\"B\") or label.startswith(\"I\"):  # Beginning or Inside of an entity\n",
    "            if token.startswith(\"##\"):  # Continuation of a word\n",
    "                entity += token[2:]  # Remove subword prefix\n",
    "            else:  # New word\n",
    "                entity += \" \" + token  # Add space before new word\n",
    "            current_label = label  # Update current entity label\n",
    "        elif entity:  # Outside of an entity, but entity string is non-empty\n",
    "            entity = entity.strip()  # Remove trailing space\n",
    "            if current_label == \"I-PER\":\n",
    "                p_entities.append(entity)\n",
    "            elif current_label == \"I-MISC\":\n",
    "                m_entities.append(entity)\n",
    "            entity = \"\"  # Reset entity string\n",
    "            current_label = None  # Reset current entity label\n",
    "\n",
    "    # If sentence ends with an entity, append it to the appropriate list\n",
    "    if entity:\n",
    "        entity = entity.strip()\n",
    "        if current_label == \"I-PER\":\n",
    "            p_entities.append(entity)\n",
    "        elif current_label == \"I-MISC\":\n",
    "            m_entities.append(entity)\n",
    "\n",
    "    return p_entities, m_entities\n",
    "\n",
    "\n",
    "# Example usage:\n",
    "sentence = \"Leonardo DiCaprio starred in Titanic.\"\n",
    "p_entities, m_entities = get_entities(sentence)\n",
    "print(\"People:\", p_entities)\n",
    "print(\"Movies:\", m_entities)\n"
   ],
   "metadata": {
    "collapsed": false,
    "ExecuteTime": {
     "end_time": "2023-11-27T16:41:10.429593900Z",
     "start_time": "2023-11-27T16:40:52.057377200Z"
    }
   },
   "id": "initial_id"
  },
  {
   "cell_type": "code",
   "execution_count": 3,
   "outputs": [
    {
     "name": "stdout",
     "output_type": "stream",
     "text": [
      "([], ['Public Enemy No . 1', 'Todestrieb'])\n"
     ]
    }
   ],
   "source": [
    "print(get_entities(questions[1]))"
   ],
   "metadata": {
    "collapsed": false,
    "ExecuteTime": {
     "end_time": "2023-11-27T16:41:10.575050200Z",
     "start_time": "2023-11-27T16:41:10.429593900Z"
    }
   },
   "id": "ed118055c4a265e7"
  },
  {
   "cell_type": "code",
   "execution_count": 4,
   "outputs": [
    {
     "ename": "FileNotFoundError",
     "evalue": "[Errno 2] No such file or directory: '../dataset/film_dict.pickle'",
     "output_type": "error",
     "traceback": [
      "\u001B[0;31m---------------------------------------------------------------------------\u001B[0m",
      "\u001B[0;31mFileNotFoundError\u001B[0m                         Traceback (most recent call last)",
      "Cell \u001B[0;32mIn[4], line 1\u001B[0m\n\u001B[0;32m----> 1\u001B[0m \u001B[38;5;28;01mwith\u001B[39;00m \u001B[38;5;28;43mopen\u001B[39;49m\u001B[43m(\u001B[49m\u001B[38;5;124;43m\"\u001B[39;49m\u001B[38;5;124;43m../dataset/film_dict.pickle\u001B[39;49m\u001B[38;5;124;43m\"\u001B[39;49m\u001B[43m,\u001B[49m\u001B[43m \u001B[49m\u001B[38;5;124;43m'\u001B[39;49m\u001B[38;5;124;43mrb\u001B[39;49m\u001B[38;5;124;43m'\u001B[39;49m\u001B[43m)\u001B[49m \u001B[38;5;28;01mas\u001B[39;00m f:\n\u001B[1;32m      2\u001B[0m     film_dict \u001B[38;5;241m=\u001B[39m pickle\u001B[38;5;241m.\u001B[39mload(f)\n\u001B[1;32m      3\u001B[0m movie_titles \u001B[38;5;241m=\u001B[39m \u001B[38;5;28mlist\u001B[39m(film_dict\u001B[38;5;241m.\u001B[39mkeys())\n",
      "File \u001B[0;32m~/miniconda3/envs/atai2/lib/python3.10/site-packages/IPython/core/interactiveshell.py:286\u001B[0m, in \u001B[0;36m_modified_open\u001B[0;34m(file, *args, **kwargs)\u001B[0m\n\u001B[1;32m    279\u001B[0m \u001B[38;5;28;01mif\u001B[39;00m file \u001B[38;5;129;01min\u001B[39;00m {\u001B[38;5;241m0\u001B[39m, \u001B[38;5;241m1\u001B[39m, \u001B[38;5;241m2\u001B[39m}:\n\u001B[1;32m    280\u001B[0m     \u001B[38;5;28;01mraise\u001B[39;00m \u001B[38;5;167;01mValueError\u001B[39;00m(\n\u001B[1;32m    281\u001B[0m         \u001B[38;5;124mf\u001B[39m\u001B[38;5;124m\"\u001B[39m\u001B[38;5;124mIPython won\u001B[39m\u001B[38;5;124m'\u001B[39m\u001B[38;5;124mt let you open fd=\u001B[39m\u001B[38;5;132;01m{\u001B[39;00mfile\u001B[38;5;132;01m}\u001B[39;00m\u001B[38;5;124m by default \u001B[39m\u001B[38;5;124m\"\u001B[39m\n\u001B[1;32m    282\u001B[0m         \u001B[38;5;124m\"\u001B[39m\u001B[38;5;124mas it is likely to crash IPython. If you know what you are doing, \u001B[39m\u001B[38;5;124m\"\u001B[39m\n\u001B[1;32m    283\u001B[0m         \u001B[38;5;124m\"\u001B[39m\u001B[38;5;124myou can use builtins\u001B[39m\u001B[38;5;124m'\u001B[39m\u001B[38;5;124m open.\u001B[39m\u001B[38;5;124m\"\u001B[39m\n\u001B[1;32m    284\u001B[0m     )\n\u001B[0;32m--> 286\u001B[0m \u001B[38;5;28;01mreturn\u001B[39;00m \u001B[43mio_open\u001B[49m\u001B[43m(\u001B[49m\u001B[43mfile\u001B[49m\u001B[43m,\u001B[49m\u001B[43m \u001B[49m\u001B[38;5;241;43m*\u001B[39;49m\u001B[43margs\u001B[49m\u001B[43m,\u001B[49m\u001B[43m \u001B[49m\u001B[38;5;241;43m*\u001B[39;49m\u001B[38;5;241;43m*\u001B[39;49m\u001B[43mkwargs\u001B[49m\u001B[43m)\u001B[49m\n",
      "\u001B[0;31mFileNotFoundError\u001B[0m: [Errno 2] No such file or directory: '../dataset/film_dict.pickle'"
     ]
    }
   ],
   "source": [
    "with open(\"../dataset/film_dict.pickle\", 'rb') as f:\n",
    "    film_dict = pickle.load(f)\n",
    "movie_titles = list(film_dict.keys())\n",
    "\n",
    "with open(\"human_dict.pickle\", 'rb') as f:\n",
    "    human_dict = pickle.load(f)\n",
    "human_dict = list(human_dict.keys())"
   ],
   "metadata": {
    "collapsed": false,
    "ExecuteTime": {
     "end_time": "2023-11-27T16:41:10.863082100Z",
     "start_time": "2023-11-27T16:41:10.575050200Z"
    }
   },
   "id": "83a5db0727df203a"
  },
  {
   "cell_type": "code",
   "execution_count": null,
   "outputs": [],
   "source": [
    "import pickle\n",
    "from rapidfuzz import fuzz, process,utils\n",
    "\n",
    "\n",
    "def get_movie_title(query,scorer):\n",
    "    # Extract all movie titles from your dictionary\n",
    "\n",
    "    # Use fuzzywuzzy to find the closest match in your dictionary to the user query\n",
    "    best_match = process.extract(query, movie_titles, scorer=scorer, limit=2,processor=utils.default_process)\n",
    "\n",
    "    # best_match is a tuple containing the best matching movie title and a score\n",
    "    # matching_movie_title, score = best_match\n",
    "    matched_movies = []\n",
    "    for movie in best_match:\n",
    "        print(\"FUZZYWUZZY results:\", movie)\n",
    "\n",
    "        if int(movie[1]) > 50:\n",
    "            matched_movies.append(movie[0])\n",
    "    return matched_movies\n"
   ],
   "metadata": {
    "collapsed": false,
    "ExecuteTime": {
     "end_time": "2023-11-27T16:41:10.869671300Z",
     "start_time": "2023-11-27T16:41:10.867614800Z"
    }
   },
   "id": "a983acd2195635bb"
  },
  {
   "cell_type": "code",
   "execution_count": null,
   "outputs": [],
   "source": [
    "from rapidfuzz import fuzz\n",
    "\n",
    "for question in questions:\n",
    "    p_entities, m_entities = get_entities(question)\n",
    "    print(\"____________________________________________________________________________________\")\n",
    "    print(\"Question: \", question)\n",
    "    print(\"People:\", p_entities)\n",
    "    print(\"Movies:\", m_entities)\n",
    "    print(\"FUZZ:\",get_movie_title(''.join(m_entities),fuzz.ratio))\n",
    "    # print(\"FUZZ SOLO:\",get_movie_title(''.join(m_entities),fuzz.ratio))\n",
    "    # # print(\"FUZZ SOLO:\",get_movie_title(''.join(m_entities),fuzz.partial_ratio))\n",
    "    # # print(\"FUZZ SOLO:\",get_movie_title(''.join(m_entities),fuzz.token_set_ratio))\n",
    "    # # print(\"FUZZ SOLO:\",get_movie_title(''.join(m_entities),fuzz.partial_token_set_ratio))\n",
    "    # print(\"FUZZ SOLO:\",get_movie_title(''.join(m_entities),fuzz.token_sort_ratio))\n",
    "    # # print(\"FUZZ SOLO:\",get_movie_title(''.join(m_entities),fuzz.partial_token_sort_ratio))\n",
    "    # # print(\"FUZZ SOLO:\",get_movie_title(''.join(m_entities),fuzz.token_ratio))\n",
    "    # print(\"FUZZ SOLO:\",get_movie_title(''.join(m_entities),fuzz.WRatio))\n",
    "    # print(\"FUZZ SOLO:\",get_movie_title(''.join(m_entities),fuzz.QRatio))"
   ],
   "metadata": {
    "collapsed": false,
    "ExecuteTime": {
     "start_time": "2023-11-27T16:41:10.872324100Z"
    }
   },
   "id": "d9aca15b3a411d07"
  },
  {
   "cell_type": "code",
   "execution_count": null,
   "outputs": [],
   "source": [
    "print(movie_titles)"
   ],
   "metadata": {
    "collapsed": false,
    "ExecuteTime": {
     "start_time": "2023-11-27T16:41:10.876522600Z"
    }
   },
   "id": "f04d966dfad9542e"
  },
  {
   "cell_type": "markdown",
   "source": [
    "# PhraseMatcher"
   ],
   "metadata": {
    "collapsed": false
   },
   "id": "1036c59d5c966d51"
  },
  {
   "cell_type": "code",
   "execution_count": null,
   "outputs": [],
   "source": [
    "\n",
    "movie_titles = sorted(movie_titles, key=len, reverse=True)\n",
    "print(movie_titles[:10])\n",
    "print(questions[:10])"
   ],
   "metadata": {
    "collapsed": false,
    "ExecuteTime": {
     "start_time": "2023-11-27T16:41:10.880081400Z"
    }
   },
   "id": "df2ab5bd7f641585"
  },
  {
   "cell_type": "code",
   "execution_count": null,
   "outputs": [],
   "source": [
    "import spacy\n",
    "from spacy.matcher import PhraseMatcher\n",
    "\n",
    "# Load SpaCy model\n",
    "nlp = spacy.load(\"en_core_web_sm\")\n",
    "\n",
    "matcher = PhraseMatcher(nlp.vocab, attr=\"LOWER\")\n",
    "\n",
    "# Add the movie titles to the matcher\n",
    "patterns = [nlp.make_doc(title) for title in movie_titles]\n",
    "matcher.add(\"MOVIE_TITLES\", patterns)\n",
    "\n",
    "# Function to extract movie titles from a sentence\n",
    "def extract_movie_titles(sent):\n",
    "    doc = nlp(sent)\n",
    "    matches = matcher(doc)\n",
    "    return [doc[start:end].text for match_id, start, end in matches]\n",
    "\n",
    "# Extract titles from each sentence\n",
    "for sent in questions:\n",
    "    found_titles = extract_movie_titles(sent)\n",
    "    print(f\"Sentence: {sent}\\nExtracted Titles: {found_titles}\\n\")"
   ],
   "metadata": {
    "collapsed": false,
    "ExecuteTime": {
     "start_time": "2023-11-27T16:41:10.882085100Z"
    }
   },
   "id": "a437dc1e79dd92f9"
  },
  {
   "cell_type": "code",
   "execution_count": null,
   "outputs": [],
   "source": [
    "print(movie_titles)\n"
   ],
   "metadata": {
    "collapsed": false,
    "ExecuteTime": {
     "start_time": "2023-11-27T16:41:10.890132200Z"
    }
   },
   "id": "32f0793388f2635d"
  }
 ],
 "metadata": {
  "kernelspec": {
   "display_name": "Python 3",
   "language": "python",
   "name": "python3"
  },
  "language_info": {
   "codemirror_mode": {
    "name": "ipython",
    "version": 2
   },
   "file_extension": ".py",
   "mimetype": "text/x-python",
   "name": "python",
   "nbconvert_exporter": "python",
   "pygments_lexer": "ipython2",
   "version": "2.7.6"
  }
 },
 "nbformat": 4,
 "nbformat_minor": 5
}
